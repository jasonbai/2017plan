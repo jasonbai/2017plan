{
 "cells": [
  {
   "cell_type": "markdown",
   "metadata": {},
   "source": [
    "### 项目概述\n",
    "安然曾是 2000 年美国最大的公司之一。2002 年，由于其存在大量的企业欺诈行为，这个昔日的大集团土崩瓦解。 在随后联邦进行的调查过程中，大量有代表性的保密信息进入了公众的视线，包括成千上万涉及高管的邮件和详细的财务数据。 你将在此项目中扮演侦探，运用你的新技能，根据安然丑闻中公开的财务和邮件数据来构建相关人士识别符。 为了协助你进行侦查工作，我们已将数据与手动整理出来的欺诈案涉案人员列表进行了合并， 这意味着被起诉的人员要么达成和解，要么向政府签署认罪协议，再或者出庭作证以获得免受起诉的豁免权。"
   ]
  },
  {
   "cell_type": "markdown",
   "metadata": {},
   "source": [
    "### 1.数据集初步探索\n",
    "\n",
    "在预处理此项目时，我们已将安然邮件和财务数据与字典结合在一起，字典中的每对键值对应一个人。 字典键是人名，值是另一个字典（包含此人的所有特征名和对应的值）。 数据中的特征分为三大类，即财务特征、邮件特征和 POI 标签。"
   ]
  },
  {
   "cell_type": "code",
   "execution_count": 1,
   "metadata": {},
   "outputs": [
    {
     "name": "stderr",
     "output_type": "stream",
     "text": [
      "d:\\Anaconda2\\lib\\site-packages\\sklearn\\cross_validation.py:44: DeprecationWarning: This module was deprecated in version 0.18 in favor of the model_selection module into which all the refactored classes and functions are moved. Also note that the interface of the new CV iterators are different from that of this module. This module will be removed in 0.20.\n",
      "  \"This module will be removed in 0.20.\", DeprecationWarning)\n"
     ]
    },
    {
     "name": "stdout",
     "output_type": "stream",
     "text": [
      "<class 'pandas.core.frame.DataFrame'>\n",
      "Index: 146 entries, ALLEN PHILLIP K to YEAP SOON\n",
      "Data columns (total 21 columns):\n",
      "salary                       95 non-null float64\n",
      "to_messages                  86 non-null float64\n",
      "deferral_payments            39 non-null float64\n",
      "total_payments               125 non-null float64\n",
      "exercised_stock_options      102 non-null float64\n",
      "bonus                        82 non-null float64\n",
      "restricted_stock             110 non-null float64\n",
      "shared_receipt_with_poi      86 non-null float64\n",
      "restricted_stock_deferred    18 non-null float64\n",
      "total_stock_value            126 non-null float64\n",
      "expenses                     95 non-null float64\n",
      "loan_advances                4 non-null float64\n",
      "from_messages                86 non-null float64\n",
      "other                        93 non-null float64\n",
      "from_this_person_to_poi      86 non-null float64\n",
      "poi                          146 non-null bool\n",
      "director_fees                17 non-null float64\n",
      "deferred_income              49 non-null float64\n",
      "long_term_incentive          66 non-null float64\n",
      "email_address                111 non-null object\n",
      "from_poi_to_this_person      86 non-null float64\n",
      "dtypes: bool(1), float64(19), object(1)\n",
      "memory usage: 24.1+ KB\n"
     ]
    }
   ],
   "source": [
    "import sys\n",
    "import cPickle as pickle\n",
    "import numpy as np\n",
    "import pandas as pd\n",
    "import matplotlib.pyplot as plt\n",
    "import seaborn as sns\n",
    "\n",
    "from sklearn.cross_validation import train_test_split\n",
    "from sklearn.pipeline import Pipeline\n",
    "from sklearn.model_selection import GridSearchCV, StratifiedShuffleSplit, cross_val_score\n",
    "from sklearn.preprocessing import StandardScaler\n",
    "from sklearn.decomposition import PCA\n",
    "from sklearn.feature_selection import SelectKBest\n",
    "from sklearn.naive_bayes import GaussianNB\n",
    "from sklearn.svm import SVC\n",
    "from sklearn.tree import DecisionTreeClassifier\n",
    "from sklearn.metrics import accuracy_score, precision_score, recall_score, f1_score\n",
    "\n",
    "\n",
    "\n",
    "from feature_format import featureFormat, targetFeatureSplit\n",
    "from tester import dump_classifier_and_data, test_classifier\n",
    "\n",
    "%matplotlib inline\n",
    "pd.set_option('display.max_columns', None)\n",
    "\n",
    "### Load the dictionary containing the dataset\n",
    "with open(\"final_project_dataset.pkl\", \"r\") as data_file:\n",
    "    data_dict = pickle.load(data_file)\n",
    "\n",
    "# dict to dataframe\n",
    "df = pd.DataFrame.from_dict(data_dict, orient='index')\n",
    "df.replace('NaN', np.nan, inplace = True)\n",
    "\n",
    "df.info()"
   ]
  },
  {
   "cell_type": "markdown",
   "metadata": {},
   "source": [
    "分析这个数据字典，发现每个人一共有21个特征可以用于分析，发现一共有146个数据点(人)"
   ]
  },
  {
   "cell_type": "markdown",
   "metadata": {},
   "source": [
    "#### 1.1 POI统计"
   ]
  },
  {
   "cell_type": "code",
   "execution_count": 2,
   "metadata": {},
   "outputs": [
    {
     "data": {
      "text/plain": [
       "BELDEN TIMOTHY N        True\n",
       "BOWEN JR RAYMOND M      True\n",
       "CALGER CHRISTOPHER F    True\n",
       "CAUSEY RICHARD A        True\n",
       "COLWELL WESLEY          True\n",
       "DELAINEY DAVID W        True\n",
       "FASTOW ANDREW S         True\n",
       "GLISAN JR BEN F         True\n",
       "HANNON KEVIN P          True\n",
       "HIRKO JOSEPH            True\n",
       "KOENIG MARK E           True\n",
       "KOPPER MICHAEL J        True\n",
       "LAY KENNETH L           True\n",
       "RICE KENNETH D          True\n",
       "RIEKER PAULA H          True\n",
       "SHELBY REX              True\n",
       "SKILLING JEFFREY K      True\n",
       "YEAGER F SCOTT          True\n",
       "Name: poi, dtype: bool"
      ]
     },
     "execution_count": 2,
     "metadata": {},
     "output_type": "execute_result"
    }
   ],
   "source": [
    "df.poi[df.poi==1]"
   ]
  },
  {
   "cell_type": "markdown",
   "metadata": {},
   "source": [
    "共18个人是POI"
   ]
  },
  {
   "cell_type": "markdown",
   "metadata": {},
   "source": [
    "#### 1.2 缺失值情况"
   ]
  },
  {
   "cell_type": "markdown",
   "metadata": {},
   "source": [
    "共146条数据点，有很多信息的特征是缺失的。例如salary特征，很多人的信息就是NaN。146个数据点中，只有95个人有salary的具体信息。有111个人有邮箱地址，其他人的邮箱地址信息为NaN。"
   ]
  },
  {
   "cell_type": "markdown",
   "metadata": {},
   "source": [
    "### 2.异常值调查和处理"
   ]
  },
  {
   "cell_type": "code",
   "execution_count": 3,
   "metadata": {},
   "outputs": [
    {
     "data": {
      "text/plain": [
       "<matplotlib.axes._subplots.AxesSubplot at 0x4535978>"
      ]
     },
     "execution_count": 3,
     "metadata": {},
     "output_type": "execute_result"
    },
    {
     "data": {
      "image/png": "[encoded data removed]",
      "text/plain": [
       "<matplotlib.figure.Figure at 0x61b72b0>"
      ]
     },
     "metadata": {},
     "output_type": "display_data"
    }
   ],
   "source": [
    "df.plot.scatter(x = 'salary', y = 'bonus')"
   ]
  },
  {
   "cell_type": "markdown",
   "metadata": {},
   "source": [
    "明显在右上角有一个极为异常的点，奖金和薪水远远高于其他人。"
   ]
  },
  {
   "cell_type": "code",
   "execution_count": 4,
   "metadata": {},
   "outputs": [
    {
     "data": {
      "text/plain": [
       "'TOTAL'"
      ]
     },
     "execution_count": 4,
     "metadata": {},
     "output_type": "execute_result"
    }
   ],
   "source": [
    "df['salary'].idxmax()"
   ]
  },
  {
   "cell_type": "markdown",
   "metadata": {},
   "source": [
    "结果是‘TOTAL’,那么这个值可能是上市公司的员工总和混入了数据集，下一步将其删除。"
   ]
  },
  {
   "cell_type": "code",
   "execution_count": 5,
   "metadata": {},
   "outputs": [
    {
     "data": {
      "text/plain": [
       "<matplotlib.axes._subplots.AxesSubplot at 0xd664198>"
      ]
     },
     "execution_count": 5,
     "metadata": {},
     "output_type": "execute_result"
    },
    {
     "data": {
      "image/png": "[encoded data removed]",
      "text/plain": [
       "<matplotlib.figure.Figure at 0xd66f470>"
      ]
     },
     "metadata": {},
     "output_type": "display_data"
    }
   ],
   "source": [
    "df.drop('TOTAL', inplace = True)\n",
    "df.plot.scatter(x = 'salary', y = 'bonus')"
   ]
  },
  {
   "cell_type": "markdown",
   "metadata": {},
   "source": [
    "### 3、特征值选择"
   ]
  },
  {
   "cell_type": "markdown",
   "metadata": {},
   "source": [
    "我们有to_messages和from_poi_to_this_person这两个特征，因此从感觉上尝试，可以建立一个新的特征命名为 fraction_from_poi，其值为from_poi_to_this_person和to_messages的比值，比值越大也就意味着这个人收到的邮件中来自嫌疑人的邮件越多，往往也就意味着这个人和嫌疑人的关系越密切，很有可能这个人也是一个嫌疑人。另外建立一个特征命名为fraction_to_poi，其值为from_this_person_to_poi和from_messages，比值越大意味这个人会经常给嫌疑人发邮件。"
   ]
  },
  {
   "cell_type": "code",
   "execution_count": 6,
   "metadata": {},
   "outputs": [
    {
     "data": {
      "text/plain": [
       "<matplotlib.axes._subplots.AxesSubplot at 0xe37f710>"
      ]
     },
     "execution_count": 6,
     "metadata": {},
     "output_type": "execute_result"
    },
    {
     "data": {
      "image/png": "[encoded data removed]",
      "text/plain": [
       "<matplotlib.figure.Figure at 0xd66fbe0>"
      ]
     },
     "metadata": {},
     "output_type": "display_data"
    }
   ],
   "source": [
    "df['fraction_from_poi'] = df['from_poi_to_this_person'] / df['to_messages']\n",
    "df['fraction_to_poi'] = df['from_this_person_to_poi'] / df['from_messages']\n",
    "\n",
    "ax = df[df['poi'] == False].plot.scatter(x='fraction_from_poi', y='fraction_to_poi', color='blue', label='non-poi')\n",
    "df[df['poi'] == True].plot.scatter(x='fraction_from_poi', y='fraction_to_poi', color='red', label='poi', ax=ax)"
   ]
  },
  {
   "cell_type": "markdown",
   "metadata": {},
   "source": [
    "从这个新的散点图，发现红色的数据点（POI）聚集在散点图的中心。"
   ]
  },
  {
   "cell_type": "markdown",
   "metadata": {},
   "source": [
    "### 4.选择和调整算法"
   ]
  },
  {
   "cell_type": "markdown",
   "metadata": {},
   "source": [
    "\n",
    "为了找到最有效的特征进行分类，使用“决策树”的特征选择重要性排名的功能。选择功能是半手动迭代过程。我先把所有可能的功能为features_list然后开始删除逐一用评分值和人的直觉来回测试特征。"
   ]
  },
  {
   "cell_type": "code",
   "execution_count": 7,
   "metadata": {},
   "outputs": [
    {
     "name": "stdout",
     "output_type": "stream",
     "text": [
      "('Accuracy: ', 0.81944444444444442)\n",
      "('Precision: ', 0.14285714285714285)\n",
      "('Recall: ', 0.125)\n",
      "('Decision tree algorithm time:', 0.005, 's')\n",
      "Feature Ranking: \n",
      "1 feature salary (0.193045664013)\n",
      "2 feature bonus (0.185829912023)\n",
      "3 feature long_term_incentive (0.165898617512)\n",
      "4 feature deferred_income (0.132718894009)\n",
      "5 feature deferral_payments (0.109208689928)\n",
      "6 feature loan_advances (0.0995391705069)\n",
      "7 feature other (0.058064516129)\n",
      "8 feature expenses (0.0556945358789)\n",
      "9 feature director_fees (0.0)\n",
      "10 feature total_payments (0.0)\n",
      "11 feature exercised_stock_options (0.0)\n",
      "12 feature restricted_stock (0.0)\n",
      "13 feature restricted_stock_deferred (0.0)\n",
      "14 feature total_stock_value (0.0)\n",
      "15 feature to_messages (0.0)\n",
      "16 feature from_messages (0.0)\n"
     ]
    }
   ],
   "source": [
    "### The first feature must be \"poi\".\n",
    "features_list = ['poi', 'salary', 'bonus', 'long_term_incentive', 'deferred_income', 'deferral_payments',\n",
    "                 'loan_advances', 'other', 'expenses', 'director_fees', 'total_payments', \n",
    "                 'exercised_stock_options', 'restricted_stock', 'restricted_stock_deferred', \n",
    "                 'total_stock_value', 'to_messages', 'from_messages', 'from_this_person_to_poi', \n",
    "                 'from_poi_to_this_person', 'shared_receipt_with_poi', 'fraction_from_poi', 'fraction_to_poi']\n",
    "\n",
    "### Load the dictionary containing the dataset\n",
    "filled_df = df.fillna(value='NaN') # featureFormat expects 'NaN' strings\n",
    "data_dict = filled_df.to_dict(orient='index')\n",
    "\n",
    "### Store to my_dataset for easy export below.\n",
    "my_dataset = data_dict\n",
    "\n",
    "data = featureFormat(my_dataset, features_list)\n",
    "\n",
    "labels, features = targetFeatureSplit(data)\n",
    "\n",
    "### split data into training and testing datasets\n",
    "from sklearn import cross_validation\n",
    "features_train, features_test, labels_train, labels_test = cross_validation.train_test_split(features, labels, test_size=0.5, random_state=1)\n",
    "\n",
    "from sklearn.tree import DecisionTreeClassifier\n",
    "from sklearn.metrics import accuracy_score, precision_score, recall_score\n",
    "from time import time\n",
    "t0 = time()\n",
    "\n",
    "clf = DecisionTreeClassifier(random_state=2)\n",
    "clf.fit(features_train,labels_train)\n",
    "pred= clf.predict(features_test)\n",
    "print(\"Accuracy: \", accuracy_score(labels_test, pred))\n",
    "print(\"Precision: \", precision_score(labels_test, pred))\n",
    "print(\"Recall: \", recall_score(labels_test, pred))\n",
    "\n",
    "print(\"Decision tree algorithm time:\", round(time()-t0, 3), \"s\")\n",
    "\n",
    "\n",
    "\n",
    "importances = clf.feature_importances_\n",
    "import numpy as np\n",
    "indices = np.argsort(importances)[::-1]\n",
    "print('Feature Ranking: ')\n",
    "for i in range(16):\n",
    "    print(\"{} feature {} ({})\".format(i+1,features_list[i+1],importances[indices[i]]))"
   ]
  },
  {
   "cell_type": "markdown",
   "metadata": {},
   "source": [
    "实际的效果并不明显，所以我结合个人经验，最终选择10个特征:\n",
    "\"salary\", \"bonus\", \"fraction_from_poi\", \"fraction_to_poi\", 'deferral_payments', 'total_payments', 'loan_advances', 'restricted_stock_deferred', 'deferred_income', 'total_stock_value'"
   ]
  },
  {
   "cell_type": "code",
   "execution_count": 18,
   "metadata": {
    "scrolled": false
   },
   "outputs": [
    {
     "name": "stdout",
     "output_type": "stream",
     "text": [
      "('Accuracy: ', 0.31944444444444442)\n",
      "('Decision tree algorithm time:', 0.004, 's')\n"
     ]
    }
   ],
   "source": [
    "features_list2 = [\"salary\", \"bonus\", \"fraction_from_poi\", \"fraction_to_poi\", 'deferral_payments', \\\n",
    "                 'total_payments', 'loan_advances', 'restricted_stock_deferred', 'deferred_income', 'total_stock_value']\n",
    "data2 = featureFormat(my_dataset, features_list2)\n",
    "\n",
    " \n",
    "labels2, features2 = targetFeatureSplit(data2)\n",
    "\n",
    "### split data into training and testing datasets\n",
    "from sklearn import cross_validation\n",
    "features_train2, features_test2, labels_train2, labels_test2 = cross_validation.train_test_split(features2, labels2, test_size=0.5, random_state=1)\n",
    "\n",
    "t0 = time()\n",
    "\n",
    "clf = DecisionTreeClassifier(random_state=2)\n",
    "clf.fit(features_train2,labels_train2)\n",
    "pred = clf.predict(features_test2)\n",
    "print(\"Accuracy: \", accuracy_score(labels_test2, pred))\n",
    "# print(\"Precision: \", precision_score(labels_test2, pred))\n",
    "# print(\"Recall: \", recall_score(labels_test2, pred))\n",
    "\n",
    "print(\"Decision tree algorithm time:\", round(time()-t0, 3), \"s\")"
   ]
  },
  {
   "cell_type": "markdown",
   "metadata": {},
   "source": [
    "但这些特征的精度和召回率太低（小于0.3），所以我改变策略和手动选择功能，让我的精度和召回率超过0.3。\n",
    "在这一次使用我的算法精度评价因为只有几个'poi'==1的数据在数据集中，所有最好的评价指标为的准确率和召回率。\n",
    "\n",
    "在数据集只有18例POI。而有35人是在这次实际事件的涉事人，由于各种原因吧，几乎一半的人都不在该数据集。\n",
    "\n",
    "最后我选择:\n",
    "[\"fraction_from_poi_email\", \"fraction_to_poi_email\", “shared_receipt_with_poi”]"
   ]
  },
  {
   "cell_type": "code",
   "execution_count": 8,
   "metadata": {
    "collapsed": true
   },
   "outputs": [],
   "source": [
    "features_list3 = [\"poi\", \"fraction_from_poi\", \"fraction_to_poi\", \"shared_receipt_with_poi\"]\n",
    "\n",
    "data3 = featureFormat(my_dataset, features_list3)\n",
    "\n",
    "labels3, features3 = targetFeatureSplit(data3)\n",
    "\n",
    "### split data into training and testing datasets\n",
    "from sklearn import cross_validation\n",
    "features_train3, features_test3, labels_train3, labels_test3 = cross_validation.train_test_split(features3, labels3, test_size=0.5, random_state=1)"
   ]
  },
  {
   "cell_type": "markdown",
   "metadata": {},
   "source": [
    "### 4. 算法选择"
   ]
  },
  {
   "cell_type": "markdown",
   "metadata": {},
   "source": [
    "\n",
    "#### Logistic回归"
   ]
  },
  {
   "cell_type": "code",
   "execution_count": 9,
   "metadata": {},
   "outputs": [
    {
     "name": "stdout",
     "output_type": "stream",
     "text": [
      "('Accuracy: ', 0.7441860465116279)\n",
      "('Precision: ', 0.0)\n",
      "('Recall: ', 0.0)\n",
      "('Logistic Regression algorithm time:', 638.151, 's')\n"
     ]
    },
    {
     "name": "stderr",
     "output_type": "stream",
     "text": [
      "d:\\Anaconda2\\lib\\site-packages\\sklearn\\metrics\\classification.py:1113: UndefinedMetricWarning: Precision is ill-defined and being set to 0.0 due to no predicted samples.\n",
      "  'precision', 'predicted', average, warn_for)\n"
     ]
    }
   ],
   "source": [
    "from sklearn.linear_model import LogisticRegression\n",
    "clf = LogisticRegression()\n",
    "\n",
    "clf.fit(features_train3,labels_train3)\n",
    "pred= clf.predict(features_test3)\n",
    "print(\"Accuracy: \", accuracy_score(labels_test3, pred))\n",
    "print(\"Precision: \", precision_score(labels_test3, pred))\n",
    "print(\"Recall: \", recall_score(labels_test3, pred))\n",
    "\n",
    "print(\"Logistic Regression algorithm time:\", round(time()-t0, 3), \"s\")"
   ]
  },
  {
   "cell_type": "markdown",
   "metadata": {},
   "source": [
    "#### 决策树"
   ]
  },
  {
   "cell_type": "code",
   "execution_count": 10,
   "metadata": {},
   "outputs": [
    {
     "name": "stdout",
     "output_type": "stream",
     "text": [
      "('Accuracy: ', 0.69767441860465118)\n",
      "('Precision: ', 0.33333333333333331)\n",
      "('Recall: ', 0.18181818181818182)\n",
      "('Decision tree algorithm time:', 0.004, 's')\n"
     ]
    }
   ],
   "source": [
    "\n",
    "t0 = time()\n",
    "\n",
    "clf = DecisionTreeClassifier(random_state=4)\n",
    "clf.fit(features_train3,labels_train3)\n",
    "pred= clf.predict(features_test3)\n",
    "print(\"Accuracy: \", accuracy_score(labels_test3, pred))\n",
    "print(\"Precision: \", precision_score(labels_test3, pred))\n",
    "print(\"Recall: \", recall_score(labels_test3, pred))\n",
    "\n",
    "print(\"Decision tree algorithm time:\", round(time()-t0, 3), \"s\")"
   ]
  },
  {
   "cell_type": "markdown",
   "metadata": {},
   "source": [
    "\n",
    "#### 朴素贝叶斯"
   ]
  },
  {
   "cell_type": "code",
   "execution_count": 11,
   "metadata": {},
   "outputs": [
    {
     "name": "stdout",
     "output_type": "stream",
     "text": [
      "('Accuracy: ', 0.7441860465116279)\n",
      "('Precision: ', 0.0)\n",
      "('Recall: ', 0.0)\n",
      "('NB algorithm time:', 0.004, 's')\n"
     ]
    }
   ],
   "source": [
    "t0 = time()\n",
    "\n",
    "clf = GaussianNB()\n",
    "clf.fit(features_train3, labels_train3)\n",
    "pred = clf.predict(features_test3)\n",
    "print(\"Accuracy: \", accuracy_score(labels_test3, pred))\n",
    "print(\"Precision: \", precision_score(labels_test3, pred))\n",
    "print(\"Recall: \", recall_score(labels_test3, pred))\n",
    "\n",
    "print(\"NB algorithm time:\", round(time()-t0, 3), \"s\")"
   ]
  },
  {
   "cell_type": "markdown",
   "metadata": {},
   "source": [
    "#### 算法调整"
   ]
  },
  {
   "cell_type": "code",
   "execution_count": 17,
   "metadata": {},
   "outputs": [
    {
     "name": "stdout",
     "output_type": "stream",
     "text": [
      "Best estimator found by grid search:\n",
      "DecisionTreeClassifier(class_weight=None, criterion='gini', max_depth=1,\n",
      "            max_features=3, max_leaf_nodes=None, min_impurity_split=1e-07,\n",
      "            min_samples_leaf=1, min_samples_split=4,\n",
      "            min_weight_fraction_leaf=0.0, presort=False, random_state=None,\n",
      "            splitter='best')\n",
      "Running time:  0.693 s\n"
     ]
    }
   ],
   "source": [
    "t0 = time()\n",
    "param_grid = {\n",
    "         'min_samples_split': [2, 3, 4, 5, 6, 7, 8],\n",
    "          'max_depth': [1, 2, 3, 4, 5, 6, 7, 8],\n",
    "            'max_features': range(3,5)\n",
    "          }\n",
    "clf = GridSearchCV(DecisionTreeClassifier(), param_grid)\n",
    "clf = clf.fit(features_train, labels_train)\n",
    "print \"Best estimator found by grid search:\"\n",
    "print clf.best_estimator_\n",
    "print 'Running time: ', round(time()-t0, 3), 's'"
   ]
  },
  {
   "cell_type": "markdown",
   "metadata": {},
   "source": [
    "使用逻辑回归、朴素贝叶斯、决策树算法 分别为0.74、0.69和0.74"
   ]
  },
  {
   "cell_type": "markdown",
   "metadata": {},
   "source": [
    "### 5.验证"
   ]
  },
  {
   "cell_type": "code",
   "execution_count": 19,
   "metadata": {},
   "outputs": [
    {
     "name": "stdout",
     "output_type": "stream",
     "text": [
      "('accuracy before tuning ', 0.8928571428571429)\n",
      "('Decision tree algorithm time:', 0.001, 's')\n",
      "done in 0.001s\n",
      "Validating algorithm:\n",
      "('accuracy after tuning = ', 0.9285714285714286)\n",
      "('precision = ', 0.66666666666666663)\n",
      "('recall = ', 0.66666666666666663)\n"
     ]
    }
   ],
   "source": [
    "# 特征列表\n",
    "features_list = [\"poi\", \"fraction_from_poi\", \"fraction_to_poi\", \"shared_receipt_with_poi\"]\n",
    "\n",
    "# 保存经过预处理的数据集\n",
    "my_dataset = data_dict\n",
    "\n",
    "# 原数据集为字典类型，python字典不能直接读入到sklearn分类或回归算法中，我编写了一些辅助函数`featureFormat()`，\n",
    "# 它可以获取特征名的列表和数据字典，然后返回`numpy`数组,如果特征没有某个特定人员的值(即NaN)，此函数还会用 0替换特征值。\n",
    "data = featureFormat(my_dataset, features_list)\n",
    "\n",
    "# 分开类标号和特征\n",
    "labels, features = targetFeatureSplit(data)\n",
    "\n",
    "\n",
    "# 交叉验证\n",
    "from sklearn import cross_validation\n",
    "features_train, features_test, labels_train, labels_test = cross_validation.train_test_split(features, labels, test_size=0.5, random_state=1)\n",
    "\n",
    "### use KFold for split and validate algorithm\n",
    "from sklearn.cross_validation import KFold\n",
    "kf=KFold(len(labels),3)\n",
    "for train_indices, test_indices in kf:\n",
    "    # make training and testing sets\n",
    "    features_train= [features[ii] for ii in train_indices]\n",
    "    features_test= [features[ii] for ii in test_indices]\n",
    "    labels_train=[labels[ii] for ii in train_indices]\n",
    "    labels_test=[labels[ii] for ii in test_indices]\n",
    "\n",
    "    \n",
    "# 决策树\n",
    "from sklearn.tree import DecisionTreeClassifier\n",
    "\n",
    "t0 = time()\n",
    "\n",
    "clf = DecisionTreeClassifier(random_state=0)\n",
    "clf.fit(features_train,labels_train)\n",
    "score = clf.score(features_test,labels_test)\n",
    "print('accuracy before tuning ', score)\n",
    "\n",
    "print(\"Decision tree algorithm time:\", round(time()-t0, 3), \"s\")\n",
    "\n",
    "### use manual tuning parameter min_samples_split\n",
    "t0 = time()\n",
    "clf2 = DecisionTreeClassifier(min_samples_split=5, random_state=0)\n",
    "clf2 = clf2.fit(features_train,labels_train)\n",
    "pred2 = clf2.predict(features_test)\n",
    "print(\"done in %0.3fs\" % (time() - t0))\n",
    "\n",
    "print(\"Validating algorithm:\")\n",
    "print(\"accuracy after tuning = \", accuracy_score(labels_test, pred2))\n",
    "print('precision = ', precision_score(labels_test,pred2))\n",
    "print('recall = ', recall_score(labels_test,pred2))\n",
    "#############################################################################\n",
    "\n",
    "\n",
    "\n",
    "### dump your classifier, dataset and features_list so\n",
    "### anyone can run/check your results\n",
    "pickle.dump(clf, open(\"my_classifier.pkl\", \"wb\") )\n",
    "pickle.dump(data_dict, open(\"my_dataset.pkl\", \"wb\") )\n",
    "pickle.dump(features_list, open(\"my_feature_list.pkl\", \"wb\"))"
   ]
  },
  {
   "cell_type": "markdown",
   "metadata": {},
   "source": [
    "验证是一种模型验证技术，用于评估统计分析的结果如何推广到独立的数据集。我经常犯的经典错误是过度拟合模型; 因此，过度拟合模型在训练数据上表现良好，但在预测新的或不可见的数据时通常会大幅失败。"
   ]
  },
  {
   "cell_type": "markdown",
   "metadata": {},
   "source": [
    "### 6.使用tester.py的测试结果"
   ]
  },
  {
   "cell_type": "markdown",
   "metadata": {},
   "source": [
    "\n",
    "  \"This module will be removed in 0.20.\", DeprecationWarning)\n",
    "DecisionTreeClassifier(class_weight=None, criterion='gini', max_depth=None,\n",
    "            max_features=None, max_leaf_nodes=None,\n",
    "            min_impurity_split=1e-07, min_samples_leaf=1,\n",
    "            min_samples_split=2, min_weight_fraction_leaf=0.0,\n",
    "            presort=False, random_state=0, splitter='best')\n",
    "        Accuracy: 0.85589       Precision: 0.35977      Recall: 0.38100 F1: 0.37008     F2: 0.37656\n",
    "        Total predictions: 9000 True positives:  381    False positives:  678   False negatives:  619   True negatives: 7322"
   ]
  },
  {
   "cell_type": "markdown",
   "metadata": {},
   "source": [
    "Precision: 0.35977      Recall: 0.38100  都超过了项目要求。"
   ]
  },
  {
   "cell_type": "markdown",
   "metadata": {},
   "source": [
    "\n",
    "### 7.结论"
   ]
  },
  {
   "cell_type": "markdown",
   "metadata": {},
   "source": [
    "精度可以被解释为，一个人被确定为一个POI实际上是一个真正的POI的可能性。召回率，标识将在测试集的POI标志的可能性有多大。召回0.38意味着在数据集中存在的100个真实POI中，38个POI被正确地分类为POI。\n",
    "\n",
    "精度可以被解释为一个人被确定POI可能性，但现实生活中，我们很难获取财务数据，这说明很难使用该模型去识别欺诈行为。改进的可能路径之一是挖掘的更多电子邮件数据。在该数据集的电子邮件特征汇总了所有的电子邮件数量，并没有挖掘电子邮件的具体内容，如果通过挖掘每个人的邮件的文本，使用特定的语义分析，例如，特定词汇的使用/信息，就可以实现识别欺诈行为。"
   ]
  }
 ],
 "metadata": {
  "kernelspec": {
   "display_name": "Python 2",
   "language": "python",
   "name": "python2"
  },
  "language_info": {
   "codemirror_mode": {
    "name": "ipython",
    "version": 2
   },
   "file_extension": ".py",
   "mimetype": "text/x-python",
   "name": "python",
   "nbconvert_exporter": "python",
   "pygments_lexer": "ipython2",
   "version": "2.7.13"
  }
 },
 "nbformat": 4,
 "nbformat_minor": 2
}
